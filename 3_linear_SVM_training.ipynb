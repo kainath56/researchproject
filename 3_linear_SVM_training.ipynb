{
 "cells": [
  {
   "cell_type": "code",
   "execution_count": null,
   "metadata": {},
   "outputs": [],
   "source": [
    "#pip install optuna"
   ]
  },
  {
   "cell_type": "code",
   "execution_count": null,
   "metadata": {},
   "outputs": [],
   "source": [
    "#pip install --upgrade jupyter"
   ]
  },
  {
   "cell_type": "code",
   "execution_count": null,
   "metadata": {
    "scrolled": true
   },
   "outputs": [],
   "source": [
    "#pip install --upgrade ipywidgets"
   ]
  },
  {
   "cell_type": "code",
   "execution_count": null,
   "metadata": {},
   "outputs": [],
   "source": [
    "#pip install imbalanced-learn"
   ]
  },
  {
   "cell_type": "code",
   "execution_count": 1,
   "metadata": {
    "id": "pKu16A3RDYzR"
   },
   "outputs": [
    {
     "name": "stdout",
     "output_type": "stream",
     "text": [
      "1.2.1\n"
     ]
    }
   ],
   "source": [
    "import numpy as np\n",
    "import pandas as pd\n",
    "\n",
    "#matplotlib\n",
    "import matplotlib.pyplot as plt\n",
    "import matplotlib.colors as colors\n",
    "from matplotlib.colors import ListedColormap\n",
    "\n",
    "#sklearn\n",
    "from sklearn.svm import SVC\n",
    "from sklearn.preprocessing import StandardScaler, scale\n",
    "from sklearn.model_selection import train_test_split, GridSearchCV\n",
    "from sklearn.metrics import accuracy_score, confusion_matrix, ConfusionMatrixDisplay, classification_report\n",
    "from sklearn.utils import resample\n",
    "import sklearn\n",
    "from sklearn.metrics import make_scorer, matthews_corrcoef\n",
    "from sklearn.model_selection import cross_val_score\n",
    "from sklearn.model_selection import cross_val_predict\n",
    "from sklearn.model_selection import learning_curve\n",
    "from sklearn.cluster import KMeans\n",
    "\n",
    "\n",
    "#undersampling\n",
    "from imblearn.over_sampling import SMOTE\n",
    "from imblearn.under_sampling import RandomUnderSampler\n",
    "from imblearn.pipeline import Pipeline\n",
    "from imblearn.under_sampling import ClusterCentroids\n",
    "\n",
    "print(sklearn.__version__)\n",
    "import random\n",
    "#import optuna"
   ]
  },
  {
   "cell_type": "code",
   "execution_count": 2,
   "metadata": {},
   "outputs": [],
   "source": [
    "#np.random.seed(12)"
   ]
  },
  {
   "cell_type": "code",
   "execution_count": 3,
   "metadata": {
    "colab": {
     "base_uri": "https://localhost:8080/"
    },
    "id": "ZanWokw4D_m6",
    "outputId": "556ea353-03a1-448c-d383-04a4cb114bda"
   },
   "outputs": [
    {
     "name": "stdout",
     "output_type": "stream",
     "text": [
      "      q1     q2      r1      r2        x1        x2  ismisc\n",
      "0  1.432  2.588  1.4311  2.5755  0.312852  0.132230       1\n",
      "1  1.432  2.588  1.4311  2.5755  0.362349  0.564846       1\n",
      "2  1.432  2.588  1.4311  2.5755  0.507916  0.181390       1\n",
      "3  1.432  2.588  1.4311  2.5755  0.044826  0.656056       1\n",
      "4  1.432  2.588  1.4311  2.5755  0.255614  0.554332       1\n"
     ]
    }
   ],
   "source": [
    "url = \"https://github.com/kainath56/researchproject/raw/main/dataset_binarymixture_final.xlsx\"\n",
    "raw = pd.read_excel(url)\n",
    "df = raw.copy()\n",
    "df = df.dropna()\n",
    "df = df.drop(columns=['Unnamed: 0', 'Solvent 1', 'Solvent 2', 'T'])\n",
    "df2 =  df.copy()\n",
    "\n",
    "print(df.head())\n",
    "\n",
    "#converting each column into variables\n",
    "q1 = df2.pop('q1')\n",
    "q2 = df2.pop('q2')\n",
    "r1 = df2.pop('r1')\n",
    "r2 = df2.pop('r2')\n",
    "x1 = df2.pop('x1')\n",
    "x2 = df2.pop('x2')\n",
    "ismisc = df2.pop('ismisc')\n"
   ]
  },
  {
   "cell_type": "code",
   "execution_count": 4,
   "metadata": {
    "colab": {
     "base_uri": "https://localhost:8080/"
    },
    "id": "8KKMdYzZNVK_",
    "outputId": "2d62aaf1-a032-4e17-a047-33d2a4315bcd",
    "scrolled": true
   },
   "outputs": [
    {
     "name": "stdout",
     "output_type": "stream",
     "text": [
      "[[1.432      2.588      1.4311     2.5755     0.31285183 0.13223011]\n",
      " [1.432      2.588      1.4311     2.5755     0.36234932 0.56484608]\n",
      " [1.432      2.588      1.4311     2.5755     0.50791602 0.18138989]\n",
      " ...\n",
      " [2.968      1.4        3.9228     0.92       0.37997633 0.27343852]\n",
      " [2.968      1.4        3.9228     0.92       0.48989037 0.17757086]\n",
      " [2.968      1.4        3.9228     0.92       0.23414613 0.4340254 ]]\n",
      "(18432, 1)\n"
     ]
    }
   ],
   "source": [
    "features = np.array((q1, q2,r1,r2, x1, x2)) #this gives a (dimension, samples) dataset\n",
    "features=features.transpose() #this gives (samples,dimension)\n",
    "print(features)\n",
    "\n",
    "label = np.array(ismisc) \n",
    "label=label.reshape(-1,1) \n",
    "print(label.shape)\n",
    "\n"
   ]
  },
  {
   "cell_type": "code",
   "execution_count": 5,
   "metadata": {
    "id": "L3DkucUA9qLC"
   },
   "outputs": [
    {
     "name": "stdout",
     "output_type": "stream",
     "text": [
      "1s 16457 \n",
      " 0s 1975\n",
      "1s 16457 \n",
      " 0s 1975\n"
     ]
    }
   ],
   "source": [
    "scalar = StandardScaler()\n",
    "scalar.fit(features);\n",
    "x = scalar.transform(features)\n",
    "y=label #no need to do scaling of y because it is a binary variable\n",
    "\n",
    "\n",
    "print(f\"1s {np.count_nonzero(y == 1)} \\n 0s {np.count_nonzero(y == 0)}\")\n",
    "under=RandomUnderSampler(random_state=12, sampling_strategy=0.7)\n",
    "#x, y = under.fit_resample(x, y)\n",
    "print(f\"1s {np.count_nonzero(y == 1)} \\n 0s {np.count_nonzero(label == 0)}\")\n"
   ]
  },
  {
   "cell_type": "code",
   "execution_count": 6,
   "metadata": {
    "colab": {
     "base_uri": "https://localhost:8080/"
    },
    "id": "gq5x6Jj1w41B",
    "outputId": "1f1158bb-9abd-45f6-936e-ff778d407a6d"
   },
   "outputs": [
    {
     "name": "stdout",
     "output_type": "stream",
     "text": [
      "(12902, 6) (5530, 6) (12902, 1) (5530, 1)\n"
     ]
    }
   ],
   "source": [
    "Xtrain, Xtest, ytrain, ytest= train_test_split(x,y, test_size=0.3, shuffle=True, random_state=12, stratify=y) #turning shuffle on because currently the data is ordered by ismisc column\n",
    "print(Xtrain.shape, Xtest.shape, ytrain.shape, ytest.shape)\n",
    "#Xtrain, Xval, ytrain, yval = train_test_split(Xtrain, ytrain, test_size=2765/15667, shuffle=True, random_state=12, stratify=ytrain)\n",
    "#print(Xtrain.shape, Xtest.shape, Xval.shape,ytrain.shape, ytest.shape, yval.shape)\n",
    "\n"
   ]
  },
  {
   "cell_type": "markdown",
   "metadata": {
    "id": "i61uFTftX6f4"
   },
   "source": [
    "## SVC model"
   ]
  },
  {
   "cell_type": "markdown",
   "metadata": {
    "scrolled": false
   },
   "source": [
    "\n",
    "def objective(trial):\n",
    "  Cparam=trial.suggest_float('C', 0.001, 1)\n",
    "  #gamma = trial.suggest_float('gamma', 0.0001,10)\n",
    "  #z = trial.suggest_float('0', 0, 10)\n",
    "  #o = trial.suggest_float('1',0,10)\n",
    "\n",
    "\n",
    "  SVCmodel = SVC(kernel='linear', C=Cparam, class_weight='balanced', probability=True)\n",
    "  SVCmodel.fit(Xtrain, ytrain.ravel())\n",
    "  SVCytest = SVCmodel.predict(Xtest)\n",
    "  mcc=matthews_corrcoef(ytest, SVCytest.ravel())\n",
    "  return mcc\n",
    "\n",
    "def SVM_optuna():\n",
    "  #run hyperparameter optimisation with optuna\n",
    "  study = optuna.create_study(direction = 'maximize')\n",
    "  study.optimize(objective, n_trials=100)\n",
    "  best_params = study.best_params\n",
    "  print(best_params)\n",
    "\n",
    "SVM_optuna()\n"
   ]
  },
  {
   "cell_type": "code",
   "execution_count": 10,
   "metadata": {},
   "outputs": [],
   "source": [
    "def modeleval(ytestt, ypred):\n",
    "  accuracy = accuracy_score(ytestt, ypred)\n",
    "  mcc = matthews_corrcoef(ytestt, SVCypred.ravel())\n",
    "  print(\"Prediction accuracy:\", accuracy)\n",
    "  print(\"Prediction mcc:\", mcc)\n",
    "  print(\"Classification report:\\n\", classification_report(ytestt,ypred))\n",
    "  cfm = confusion_matrix(ytestt,ypred)\n",
    "  disp = ConfusionMatrixDisplay(cfm)\n",
    "  disp.plot()\n",
    "  plt.gca().invert_yaxis()\n",
    "  plt.show()"
   ]
  },
  {
   "cell_type": "code",
   "execution_count": 7,
   "metadata": {
    "colab": {
     "base_uri": "https://localhost:8080/",
     "height": 209
    },
    "id": "U2hbDd4HsiDA",
    "outputId": "ad39f8d1-ada5-40ca-d6a5-8d2d0732b025"
   },
   "outputs": [
    {
     "name": "stdout",
     "output_type": "stream",
     "text": [
      "CPU times: total: 0 ns\n",
      "Wall time: 0 ns\n"
     ]
    },
    {
     "data": {
      "text/html": [
       "<style>#sk-container-id-1 {color: black;background-color: white;}#sk-container-id-1 pre{padding: 0;}#sk-container-id-1 div.sk-toggleable {background-color: white;}#sk-container-id-1 label.sk-toggleable__label {cursor: pointer;display: block;width: 100%;margin-bottom: 0;padding: 0.3em;box-sizing: border-box;text-align: center;}#sk-container-id-1 label.sk-toggleable__label-arrow:before {content: \"▸\";float: left;margin-right: 0.25em;color: #696969;}#sk-container-id-1 label.sk-toggleable__label-arrow:hover:before {color: black;}#sk-container-id-1 div.sk-estimator:hover label.sk-toggleable__label-arrow:before {color: black;}#sk-container-id-1 div.sk-toggleable__content {max-height: 0;max-width: 0;overflow: hidden;text-align: left;background-color: #f0f8ff;}#sk-container-id-1 div.sk-toggleable__content pre {margin: 0.2em;color: black;border-radius: 0.25em;background-color: #f0f8ff;}#sk-container-id-1 input.sk-toggleable__control:checked~div.sk-toggleable__content {max-height: 200px;max-width: 100%;overflow: auto;}#sk-container-id-1 input.sk-toggleable__control:checked~label.sk-toggleable__label-arrow:before {content: \"▾\";}#sk-container-id-1 div.sk-estimator input.sk-toggleable__control:checked~label.sk-toggleable__label {background-color: #d4ebff;}#sk-container-id-1 div.sk-label input.sk-toggleable__control:checked~label.sk-toggleable__label {background-color: #d4ebff;}#sk-container-id-1 input.sk-hidden--visually {border: 0;clip: rect(1px 1px 1px 1px);clip: rect(1px, 1px, 1px, 1px);height: 1px;margin: -1px;overflow: hidden;padding: 0;position: absolute;width: 1px;}#sk-container-id-1 div.sk-estimator {font-family: monospace;background-color: #f0f8ff;border: 1px dotted black;border-radius: 0.25em;box-sizing: border-box;margin-bottom: 0.5em;}#sk-container-id-1 div.sk-estimator:hover {background-color: #d4ebff;}#sk-container-id-1 div.sk-parallel-item::after {content: \"\";width: 100%;border-bottom: 1px solid gray;flex-grow: 1;}#sk-container-id-1 div.sk-label:hover label.sk-toggleable__label {background-color: #d4ebff;}#sk-container-id-1 div.sk-serial::before {content: \"\";position: absolute;border-left: 1px solid gray;box-sizing: border-box;top: 0;bottom: 0;left: 50%;z-index: 0;}#sk-container-id-1 div.sk-serial {display: flex;flex-direction: column;align-items: center;background-color: white;padding-right: 0.2em;padding-left: 0.2em;position: relative;}#sk-container-id-1 div.sk-item {position: relative;z-index: 1;}#sk-container-id-1 div.sk-parallel {display: flex;align-items: stretch;justify-content: center;background-color: white;position: relative;}#sk-container-id-1 div.sk-item::before, #sk-container-id-1 div.sk-parallel-item::before {content: \"\";position: absolute;border-left: 1px solid gray;box-sizing: border-box;top: 0;bottom: 0;left: 50%;z-index: -1;}#sk-container-id-1 div.sk-parallel-item {display: flex;flex-direction: column;z-index: 1;position: relative;background-color: white;}#sk-container-id-1 div.sk-parallel-item:first-child::after {align-self: flex-end;width: 50%;}#sk-container-id-1 div.sk-parallel-item:last-child::after {align-self: flex-start;width: 50%;}#sk-container-id-1 div.sk-parallel-item:only-child::after {width: 0;}#sk-container-id-1 div.sk-dashed-wrapped {border: 1px dashed gray;margin: 0 0.4em 0.5em 0.4em;box-sizing: border-box;padding-bottom: 0.4em;background-color: white;}#sk-container-id-1 div.sk-label label {font-family: monospace;font-weight: bold;display: inline-block;line-height: 1.2em;}#sk-container-id-1 div.sk-label-container {text-align: center;}#sk-container-id-1 div.sk-container {/* jupyter's `normalize.less` sets `[hidden] { display: none; }` but bootstrap.min.css set `[hidden] { display: none !important; }` so we also need the `!important` here to be able to override the default hidden behavior on the sphinx rendered scikit-learn.org. See: https://github.com/scikit-learn/scikit-learn/issues/21755 */display: inline-block !important;position: relative;}#sk-container-id-1 div.sk-text-repr-fallback {display: none;}</style><div id=\"sk-container-id-1\" class=\"sk-top-container\"><div class=\"sk-text-repr-fallback\"><pre>SVC(C=1, class_weight=&#x27;balanced&#x27;, kernel=&#x27;linear&#x27;, random_state=12)</pre><b>In a Jupyter environment, please rerun this cell to show the HTML representation or trust the notebook. <br />On GitHub, the HTML representation is unable to render, please try loading this page with nbviewer.org.</b></div><div class=\"sk-container\" hidden><div class=\"sk-item\"><div class=\"sk-estimator sk-toggleable\"><input class=\"sk-toggleable__control sk-hidden--visually\" id=\"sk-estimator-id-1\" type=\"checkbox\" checked><label for=\"sk-estimator-id-1\" class=\"sk-toggleable__label sk-toggleable__label-arrow\">SVC</label><div class=\"sk-toggleable__content\"><pre>SVC(C=1, class_weight=&#x27;balanced&#x27;, kernel=&#x27;linear&#x27;, random_state=12)</pre></div></div></div></div></div>"
      ],
      "text/plain": [
       "SVC(C=1, class_weight='balanced', kernel='linear', random_state=12)"
      ]
     },
     "execution_count": 7,
     "metadata": {},
     "output_type": "execute_result"
    }
   ],
   "source": [
    "###################fitting the model##########################################\n",
    "%time\n",
    "SVCmodel = SVC(kernel='linear', C=1, random_state=12, class_weight='balanced')\n",
    "SVCmodel.fit(Xtrain, ytrain.ravel())"
   ]
  },
  {
   "cell_type": "code",
   "execution_count": 8,
   "metadata": {},
   "outputs": [
    {
     "name": "stdout",
     "output_type": "stream",
     "text": [
      "training: 0.949980742771786\n",
      "testing: 0.9547195486674405\n",
      "all data: 0.9657757435431985\n"
     ]
    }
   ],
   "source": [
    "SVCytrain = SVCmodel.predict(Xtrain)\n",
    "SVCytest = SVCmodel.predict(Xtest)\n",
    "SVCy = SVCmodel.predict(x)\n",
    "\n",
    "print(\"training:\", matthews_corrcoef(ytrain.ravel(), SVCytrain))\n",
    "print(\"testing:\", matthews_corrcoef(y.ravel(), SVCy))\n",
    "print(\"all data:\", matthews_corrcoef(ytest.ravel(), SVCytest))\n"
   ]
  },
  {
   "cell_type": "markdown",
   "metadata": {},
   "source": [
    "#kfold\n",
    "scorer = make_scorer(matthews_corrcoef)\n",
    "scores_test = cross_val_score(SVCmodel, Xtest, ytest.ravel(), cv=10, scoring=scorer)\n",
    "print(scores_test)\n",
    "print(\"mean\", scores_test.mean())\n",
    "print(\"max\", max(scores_test))\n"
   ]
  },
  {
   "cell_type": "code",
   "execution_count": 20,
   "metadata": {},
   "outputs": [
    {
     "name": "stdout",
     "output_type": "stream",
     "text": [
      "Score 0.9586952367149086\n",
      "Score 0.9662613538449494\n",
      "Score 0.9724424335799288\n",
      "Average score, 0.9657996747132622\n",
      "Max score 0.9724424335799288\n"
     ]
    }
   ],
   "source": [
    "#stratified kfold\n",
    "scorer = make_scorer(matthews_corrcoef)\n",
    "from sklearn.model_selection import StratifiedKFold \n",
    "skf = StratifiedKFold(n_splits=3, shuffle=True, random_state=12)\n",
    "accuracy = []\n",
    "for train_index, test_index in skf.split(Xtest,ytest.ravel()):\n",
    "    x1_train, x1_test = Xtest[train_index], Xtest[test_index]\n",
    "    y1_train, y1_test = ytest[train_index], ytest[test_index]\n",
    "    SVCmodel.fit(x1_train,y1_train.ravel())\n",
    "    prediction = SVCmodel.predict(x1_test)\n",
    "    score = matthews_corrcoef(prediction, y1_test.ravel())\n",
    "    print(\"Score\", score)\n",
    "    accuracy.append(score)\n",
    "\n",
    "print(\"Average score,\", sum(accuracy)/len(accuracy))\n",
    "print(\"Max score\", max(accuracy))"
   ]
  },
  {
   "cell_type": "code",
   "execution_count": 21,
   "metadata": {},
   "outputs": [
    {
     "data": {
      "image/png": "[encoded data removed]",
      "text/plain": [
       "<Figure size 640x480 with 1 Axes>"
      ]
     },
     "metadata": {},
     "output_type": "display_data"
    }
   ],
   "source": [
    "\n",
    "train_sizes = np.linspace(0.1, 1.0, 50)\n",
    "\n",
    "train_sizes, train_scores, val_scores = learning_curve(\n",
    "    SVCmodel, Xtrain, ytrain.ravel(), train_sizes=train_sizes, \n",
    "    cv=5, scoring=make_scorer(matthews_corrcoef))\n",
    "\n",
    "train_mean = np.mean(train_scores, axis=1)\n",
    "val_mean = np.mean(val_scores, axis=1)\n",
    "plt.plot(train_sizes, train_mean, label='Training MCC') \n",
    "plt.plot(train_sizes, val_mean, label='Validation MCC')\n",
    "\n",
    "plt.legend()\n",
    "plt.xlabel('Training set size')  \n",
    "plt.title('SVM Learning Curve (MCC)')\n",
    "plt.show()"
   ]
  },
  {
   "cell_type": "markdown",
   "metadata": {},
   "source": [
    "# creating gdx file"
   ]
  },
  {
   "cell_type": "code",
   "execution_count": 10,
   "metadata": {
    "scrolled": false
   },
   "outputs": [
    {
     "name": "stdout",
     "output_type": "stream",
     "text": [
      "[ True]\n",
      "q1    0.767713\n",
      "q2    0.783279\n",
      "r1    0.948082\n",
      "r2    1.208076\n",
      "x1    0.180004\n",
      "x2    0.179409\n",
      "Name: std, dtype: float64\n",
      "q1    0.767713\n",
      "q2    0.783279\n",
      "r1    0.948082\n",
      "r2    1.208076\n",
      "x1    0.180004\n",
      "x2    0.179409\n",
      "Name: std, dtype: float64\n",
      "mean aka offset: [2.58166667 2.60188889 2.78671111 2.90584444 0.33336146 0.33325809]\n",
      "std aka gain: [1.30257016 1.27668481 1.05476087 0.82776256 5.55544541 5.57387066]\n",
      "weights [ 5.64718997e+00  1.65059914e+00 -8.13376065e+00  2.06622180e+00\n",
      "  2.55259371e-05 -5.52570942e-05]\n",
      "bias 6.907163145002407\n"
     ]
    }
   ],
   "source": [
    "x_sv = SVCmodel.support_vectors_\n",
    "y_sv = SVCmodel.predict(x_sv)*2-1  #map the y to -1,1\n",
    "\n",
    "w_sv = SVCmodel.coef_\n",
    "bias = SVCmodel.intercept_\n",
    "bias  = float(bias)\n",
    "\n",
    "#############################################################\n",
    "df3 = df.drop(columns=['ismisc'])\n",
    "a=df3.describe()\n",
    "input_offset= a.loc['mean']\n",
    "std=(a.loc['std'])\n",
    "print(std)\n",
    "print(std)\n",
    "input_offset = np.array(input_offset)\n",
    "input_gain = np.array(1/std)\n",
    "w_sv = np.array(w_sv).ravel()\n",
    "print(\"mean aka offset:\", input_offset)\n",
    "print(\"std aka gain:\", input_gain )\n",
    "print(\"weights\", w_sv)\n",
    "print(\"bias\",bias)\n",
    "\n"
   ]
  },
  {
   "cell_type": "code",
   "execution_count": 11,
   "metadata": {},
   "outputs": [
    {
     "name": "stdout",
     "output_type": "stream",
     "text": [
      "1.0\n"
     ]
    }
   ],
   "source": [
    "#checking the decision function gives same results as .predict()\n",
    "pred=[]\n",
    "for i in range(len(Xtest)):\n",
    "    xt=Xtest[i,:].reshape(1,-1)\n",
    "    yt=SVCmodel.predict(xt)*2-1\n",
    "    #predicting using weights\n",
    "    prediction = np.sign(np.sum(w_sv*xt)+bias)\n",
    "\n",
    "    #prediction of weights == prediction by scikitlearn?\n",
    "    pred.append((prediction ==yt).tolist())\n",
    "    \n",
    "    #https://stackoverflow.com/questions/21260691/how-to-obtain-features-weights\n",
    "\n",
    "pred=np.ravel(pred).tolist()\n",
    "a=pred.count(True)\n",
    "b=pred.count(False)\n",
    "print(a/(a+b))"
   ]
  },
  {
   "cell_type": "code",
   "execution_count": null,
   "metadata": {},
   "outputs": [],
   "source": [
    "%reload_ext gams_magic\n",
    "%gams_cleanup  -k\n"
   ]
  },
  {
   "cell_type": "code",
   "execution_count": null,
   "metadata": {},
   "outputs": [],
   "source": [
    "%%gams\n",
    "SETS\n",
    "f      'inputs to neural network' /1*6/;"
   ]
  },
  {
   "cell_type": "code",
   "execution_count": null,
   "metadata": {},
   "outputs": [],
   "source": [
    "%%capture\n",
    "%run DataTransform.ipynb"
   ]
  },
  {
   "cell_type": "code",
   "execution_count": null,
   "metadata": {},
   "outputs": [],
   "source": [
    "%gams_pull f"
   ]
  },
  {
   "cell_type": "code",
   "execution_count": null,
   "metadata": {},
   "outputs": [],
   "source": [
    "%%gams\n",
    "parameter input_offset(f), input_gain(f), w_sv(f);"
   ]
  },
  {
   "cell_type": "code",
   "execution_count": null,
   "metadata": {},
   "outputs": [],
   "source": [
    "%%gams\n",
    "scalar bias;"
   ]
  },
  {
   "cell_type": "code",
   "execution_count": null,
   "metadata": {},
   "outputs": [],
   "source": [
    "%gams_push input_offset\n",
    "%gams display input_offset;\n",
    "%gams_lst -e\n",
    "%gams_cleanup -k"
   ]
  },
  {
   "cell_type": "code",
   "execution_count": null,
   "metadata": {},
   "outputs": [],
   "source": [
    "%gams_push input_gain\n",
    "%gams display input_gain;\n",
    "%gams_lst -e\n",
    "%gams_cleanup -k"
   ]
  },
  {
   "cell_type": "code",
   "execution_count": null,
   "metadata": {},
   "outputs": [],
   "source": [
    "%gams_push w_sv\n",
    "%gams display w_sv;\n",
    "%gams_lst -e\n",
    "%gams_cleanup -k"
   ]
  },
  {
   "cell_type": "code",
   "execution_count": null,
   "metadata": {
    "scrolled": true
   },
   "outputs": [],
   "source": [
    "%gams_push bias\n",
    "%gams display bias;\n",
    "%gams_lst -e\n",
    "%gams_cleanup -k"
   ]
  },
  {
   "cell_type": "code",
   "execution_count": null,
   "metadata": {},
   "outputs": [],
   "source": []
  }
 ],
 "metadata": {
  "colab": {
   "provenance": []
  },
  "kernelspec": {
   "display_name": "Python 3 (ipykernel)",
   "language": "python",
   "name": "python3"
  },
  "language_info": {
   "codemirror_mode": {
    "name": "ipython",
    "version": 3
   },
   "file_extension": ".py",
   "mimetype": "text/x-python",
   "name": "python",
   "nbconvert_exporter": "python",
   "pygments_lexer": "ipython3",
   "version": "3.10.9"
  }
 },
 "nbformat": 4,
 "nbformat_minor": 1
}
