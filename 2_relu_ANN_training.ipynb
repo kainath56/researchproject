{
 "cells": [
  {
   "cell_type": "markdown",
   "id": "678944d5",
   "metadata": {},
   "source": [
    "*Training of ANN model and saving model parameters as a .gdx file for use in GAMS*\n",
    "Citation : Tanuj Karia "
   ]
  },
  {
   "cell_type": "markdown",
   "id": "3176380b",
   "metadata": {},
   "source": [
    "## Importing relevent libraries"
   ]
  },
  {
   "cell_type": "code",
   "execution_count": 1,
   "id": "d9ff29e8",
   "metadata": {},
   "outputs": [
    {
     "name": "stdout",
     "output_type": "stream",
     "text": [
      "2.12.0\n"
     ]
    }
   ],
   "source": [
    "import numpy as np\n",
    "import pandas as pd\n",
    "import math\n",
    "import matplotlib as mpl\n",
    "import matplotlib.pyplot as plt\n",
    "import tempfile\n",
    "\n",
    "np.set_printoptions(precision=3, suppress=True)\n",
    "\n",
    "#tensorflow\n",
    "import tensorflow as tf\n",
    "from tensorflow import keras\n",
    "from tensorflow.keras import layers\n",
    "from tensorflow.keras.layers import *\n",
    "from tensorflow.keras.models import *\n",
    "from tensorflow.keras import backend as K\n",
    "print(tf.version.VERSION)\n",
    "\n",
    "\n",
    "#sklearn\n",
    "from sklearn.model_selection import train_test_split, cross_val_score, StratifiedKFold\n",
    "from sklearn.metrics import make_scorer, matthews_corrcoef\n",
    "from sklearn.decomposition import PCA\n",
    "\n",
    "#undersampling\n",
    "from imblearn.under_sampling import RandomUnderSampler, NearMiss, AllKNN, ClusterCentroids\n",
    "\n",
    "\n",
    "#optuna\n",
    "#import optuna\n",
    "#print(optuna.__version__)\n",
    "\n",
    "\n",
    "#other\n",
    "import random \n",
    "import sys\n",
    "import os\n",
    "import inspect\n"
   ]
  },
  {
   "cell_type": "code",
   "execution_count": 2,
   "id": "e0f0dd9c",
   "metadata": {},
   "outputs": [
    {
     "name": "stdout",
     "output_type": "stream",
     "text": [
      "WARNING:tensorflow:From C:\\Users\\Kaina\\AppData\\Local\\Temp\\ipykernel_12580\\1401810755.py:11: The name tf.keras.backend.set_session is deprecated. Please use tf.compat.v1.keras.backend.set_session instead.\n",
      "\n"
     ]
    }
   ],
   "source": [
    "#https://stackoverflow.com/questions/45230448/how-to-get-reproducible-result-when-running-keras-with-tensorflow-backend\n",
    "#https://stackoverflow.com/questions/50659482/why-cant-i-get-reproducible-results-in-keras-even-though-i-set-the-random-seeds\n",
    "\n",
    "def seeding(seed):\n",
    "    os.environ['PYTHONHASHSEED'] = '0'\n",
    "    np.random.seed(seed)\n",
    "    random.seed(seed)\n",
    "    tf.compat.v1.set_random_seed(seed)\n",
    "    session_conf = tf.compat.v1.ConfigProto(intra_op_parallelism_threads=1, inter_op_parallelism_threads=1)\n",
    "    sess = tf.compat.v1.Session(graph=tf.compat.v1.get_default_graph(), config=session_conf)\n",
    "    tf.compat.v1.keras.backend.set_session(sess)\n",
    "seeding(12)"
   ]
  },
  {
   "cell_type": "code",
   "execution_count": 3,
   "id": "3586d009",
   "metadata": {},
   "outputs": [
    {
     "name": "stdout",
     "output_type": "stream",
     "text": [
      "   Unnamed: 0 Solvent 1 Solvent 2     q1     q2      r1      r2        x1  \\\n",
      "0           0  methanol   ethanol  1.432  2.588  1.4311  2.5755  0.312852   \n",
      "1           1  methanol   ethanol  1.432  2.588  1.4311  2.5755  0.362349   \n",
      "2           2  methanol   ethanol  1.432  2.588  1.4311  2.5755  0.507916   \n",
      "3           3  methanol   ethanol  1.432  2.588  1.4311  2.5755  0.044826   \n",
      "4           4  methanol   ethanol  1.432  2.588  1.4311  2.5755  0.255614   \n",
      "\n",
      "         x2    T  ismisc  \n",
      "0  0.132230  300       1  \n",
      "1  0.564846  300       1  \n",
      "2  0.181390  300       1  \n",
      "3  0.656056  300       1  \n",
      "4  0.554332  300       1  \n",
      "      q1     q2      r1      r2        x1        x2  ismisc\n",
      "0  1.432  2.588  1.4311  2.5755  0.312852  0.132230       1\n",
      "1  1.432  2.588  1.4311  2.5755  0.362349  0.564846       1\n",
      "2  1.432  2.588  1.4311  2.5755  0.507916  0.181390       1\n",
      "3  1.432  2.588  1.4311  2.5755  0.044826  0.656056       1\n",
      "4  1.432  2.588  1.4311  2.5755  0.255614  0.554332       1\n",
      "(18432, 7)\n",
      "total 18432 \n",
      " 1s 16457 \n",
      " 0s 1975\n",
      "      count      mean       std       min       25%       50%       75%  \\\n",
      "q1  18432.0  2.581667  0.767713  1.432000  2.336000  2.588000  3.124000   \n",
      "q2  18432.0  2.601889  0.783279  1.400000  2.336000  2.778000  3.116000   \n",
      "r1  18432.0  2.786711  0.948082  1.431100  2.573500  2.575500  3.249100   \n",
      "r2  18432.0  2.905844  1.208076  0.920000  2.573500  3.059550  3.922800   \n",
      "x1  18432.0  0.333361  0.180004  0.002125  0.203709  0.333618  0.451889   \n",
      "x2  18432.0  0.333258  0.179409  0.001941  0.200412  0.334335  0.441595   \n",
      "\n",
      "         max  \n",
      "q1  3.952000  \n",
      "q2  3.952000  \n",
      "r1  4.595900  \n",
      "r2  4.595900  \n",
      "x1  0.983901  \n",
      "x2  0.995602  \n",
      "      count      mean       std       min       25%       50%       75%  \\\n",
      "q1  12902.0  2.584563  0.763539  1.432000  2.336000  2.588000  3.124000   \n",
      "q2  12902.0  2.593656  0.785504  1.400000  2.336000  2.588000  3.116000   \n",
      "r1  12902.0  2.790494  0.942643  1.431100  2.573500  2.575500  3.249100   \n",
      "r2  12902.0  2.895762  1.214929  0.920000  2.573500  2.870000  3.922800   \n",
      "x1  12902.0  0.332281  0.180385  0.002125  0.200696  0.331913  0.450385   \n",
      "x2  12902.0  0.334668  0.179546  0.001941  0.202900  0.334716  0.442793   \n",
      "\n",
      "         max  \n",
      "q1  3.952000  \n",
      "q2  3.952000  \n",
      "r1  4.595900  \n",
      "r2  4.595900  \n",
      "x1  0.983901  \n",
      "x2  0.995602  \n",
      "[[2.585 2.594 2.79  2.896 0.332 0.335]]\n",
      "(12902, 6) (2765, 6) (2765, 6)\n"
     ]
    }
   ],
   "source": [
    "####################importing data#####################\n",
    "url = \"https://github.com/kainath56/researchproject/raw/main/dataset_binarymixture_final.xlsx\"\n",
    "raw_dataset = pd.read_excel(url)\n",
    "dataset = raw_dataset.copy()\n",
    "print(dataset.head())\n",
    "\n",
    "###########################data cleanup#################\n",
    "dataset = dataset.dropna()\n",
    "ds1 = dataset.drop(columns=['Unnamed: 0','Solvent 1','Solvent 2', 'T'])\n",
    "print(ds1.head())\n",
    "print(ds1.shape)\n",
    "\n",
    "######################features labels###################\n",
    "features = ds1.copy()\n",
    "lab = features.pop('ismisc')\n",
    "print(f\"total {len(lab)} \\n 1s {np.count_nonzero(lab == 1)} \\n 0s {np.count_nonzero(lab == 0)}\")\n",
    "print(features.describe().transpose())\n",
    "\n",
    "\n",
    "\n",
    "#################train_val_test split###########################\n",
    "train_features, test_features, train_lab, test_lab = train_test_split(features, lab, test_size=0.15, stratify=lab, random_state=12)\n",
    "train_features, val_features, train_lab,  val_lab = train_test_split(train_features, train_lab, test_size=len(test_features)/len(train_features), stratify=train_lab, random_state=12)\n",
    "print(train_features.describe().transpose())\n",
    "\n",
    "\n",
    "###################preprocessing##############################\n",
    "normalizer = tf.keras.layers.Normalization(axis=-1)\n",
    "np_train_features = np.asarray(train_features).astype('float64')\n",
    "normalizer.adapt(np_train_features)\n",
    "print(normalizer.mean.numpy())\n",
    "print(train_features.shape, val_features.shape, test_features.shape)"
   ]
  },
  {
   "cell_type": "markdown",
   "id": "fce30b21",
   "metadata": {},
   "source": [
    "## functions for later"
   ]
  },
  {
   "cell_type": "code",
   "execution_count": 4,
   "id": "9a3c4d4d",
   "metadata": {},
   "outputs": [],
   "source": [
    "################some functions that are used elsewhere#######################\n",
    "\n",
    "def get_mcc(tp,tn,fp,fn):\n",
    "    prod1 = tp*tn\n",
    "    prod2 = fp*fn\n",
    "    sum1 = tp+fp\n",
    "    sum2 = tp+fn\n",
    "    sum3 = tn+fp\n",
    "    sum4 = tn+fn\n",
    "    if sum1 == 0 or sum2 == 0 or sum3==0 or sum4==0:\n",
    "        return (prod1 - prod2)\n",
    "    else:\n",
    "        return (prod1 - prod2)/math.sqrt(sum1*sum2*sum3*sum4)\n",
    "    \n",
    "def neurons_upper_bound(num_train, num_inputs, num_outputs):\n",
    "    num_train_eq = num_train * num_outputs\n",
    "    num_neurons_ub = -1 + math.ceil((num_train_eq - num_outputs)/(num_inputs + num_outputs + 1))\n",
    "    num_neurons_ub = math.floor(num_neurons_ub/3) #heuristic\n",
    "    return num_neurons_ub\n",
    "\n",
    "def plot_loss(history):\n",
    "    train_loss = history.history['loss']\n",
    "    val_loss = history.history['val_loss']\n",
    "    train_loss_max = max(train_loss)\n",
    "    val_loss_max = max(val_loss)\n",
    "    plt.plot(train_loss, label='train_loss')\n",
    "    plt.plot(val_loss, label='val_loss')\n",
    "    plt.ylim([0,0.1])\n",
    "    #plt.ylim([0,min(train_loss_max,val_loss_max)])\n",
    "    plt.xlabel('Epoch')\n",
    "    plt.ylabel('Error [misc12]')\n",
    "    plt.legend()\n",
    "    plt.grid(True)"
   ]
  },
  {
   "cell_type": "code",
   "execution_count": 5,
   "id": "f3092cbb",
   "metadata": {},
   "outputs": [],
   "source": [
    "#parameters obtained using optuna in the \"1a_tanh_train_binary_optuna.ipynb\" file\n",
    "params =  {'lr': 0.09270508200753827, 'ds': 580.7432952038364, 'lreg': 5.0204404985238108e-06, 'batch_size': 1067, 'epochs': 275}\n",
    "\n",
    "\n",
    "lr = params['lr']\n",
    "ds = params['ds']\n",
    "lreg= params['lreg']\n",
    "bs= params['batch_size']\n",
    "ep=params['epochs']\n",
    "    "
   ]
  },
  {
   "cell_type": "code",
   "execution_count": 6,
   "id": "22e8c5e8",
   "metadata": {},
   "outputs": [],
   "source": [
    "lr_schedule = tf.keras.optimizers.schedules.InverseTimeDecay(\n",
    "    lr,\n",
    "    decay_steps=ds,\n",
    "    decay_rate=1,\n",
    "    staircase=False)\n",
    "\n",
    "\n",
    "def build_and_compile_model_single_layer(norm,num_neurons,activation='tanh',output_bias=None):\n",
    "    if activation =='relu':\n",
    "        kernel_initializer = 'he_normal'\n",
    "    else:\n",
    "        kernel_initializer = 'glorot_uniform'\n",
    "        \n",
    "    if output_bias is not None:\n",
    "        output_biasias = tf.kernel_initializers.Constant(output_bias)\n",
    "        \n",
    "        \n",
    "    \n",
    "    model = keras.Sequential([\n",
    "        norm,\n",
    "        layers.Dense(num_neurons, activation=activation, \n",
    "                     kernel_initializer=kernel_initializer, kernel_regularizer=tf.keras.regularizers.l2(l=lreg)),\n",
    "        layers.Dense(1, activation='sigmoid', bias_initializer=output_bias)\n",
    "    ])\n",
    "    \n",
    "    model.compile(loss = tf.keras.losses.BinaryCrossentropy(),\n",
    "                  optimizer=tf.keras.optimizers.Adam(lr_schedule),\n",
    "                 metrics = [\n",
    "        tf.keras.metrics.BinaryCrossentropy(name='binary_crossentropy'),\n",
    "        tf.keras.metrics.BinaryAccuracy(name='accuracy'),\n",
    "        tf.keras.metrics.TruePositives(name='tp'),\n",
    "        tf.keras.metrics.FalsePositives(name='fp'),\n",
    "        tf.keras.metrics.TrueNegatives(name='tn'),\n",
    "        tf.keras.metrics.FalseNegatives(name='fn'),\n",
    "        #tf.keras.metrics.Precision(name='precision'),\n",
    "        #tf.keras.metrics.Recall(name='recall'),\n",
    "        #tf.keras.metrics.AUC(name='AUC'),\n",
    "        #tf.keras.metrics.AUC(name='prc', curve='PR'),\n",
    "            ]\n",
    "                 )\n",
    "    return model\n",
    "\n",
    "def iterative_training(norm, num_train, num_inputs,\n",
    "                       num_outputs, activation, num_epochs, \n",
    "                       train_features, train_labels,\n",
    "                       val_features, val_labels,\n",
    "                       test_features, test_labels, tolerance):\n",
    "    num_neurons_ub = neurons_upper_bound(num_train, num_inputs, num_outputs)\n",
    "    mcc = {}\n",
    "    max_value = 0\n",
    "    for i in range(7, num_neurons_ub):\n",
    "        seeding(30*i**2+40*i+50)\n",
    "        sums =0\n",
    "        count = 0\n",
    "        for j in range(1,6):\n",
    "            seeding(300*j**2+400*j+500)\n",
    "            print(\"Number of neurons: \",i,\" Trial \", j)  \n",
    "            model = build_and_compile_model_single_layer(norm,i,activation)\n",
    "            \n",
    "            history = model.fit(\n",
    "            train_features,\n",
    "            train_labels,\n",
    "            batch_size = bs,\n",
    "            epochs = ep,\n",
    "            verbose = 0,\n",
    "            validation_data = (val_features, val_lab)\n",
    "            )\n",
    "            mcc[i,j] = get_mcc(history.history['val_tp'][num_epochs-1], history.history['val_tn'][num_epochs-1], history.history['val_fp'][num_epochs-1], history.history['val_fn'][num_epochs-1])\n",
    "            print(mcc[i,j])\n",
    "            if (mcc[i,j] > max_value):\n",
    "                max_value = mcc[i,j]\n",
    "                best_model = model\n",
    "                best_history = history\n",
    "                \n",
    "            sums+=mcc[i,j]\n",
    "            count+=1\n",
    "            if max_value>=tolerance:\n",
    "                break    \n",
    "        #max_value = max(mcc.values())\n",
    "        print(\"Max mcc so far\", max_value)\n",
    "        print(f\"Average for {i} neurons is {sums/count}\")\n",
    "        if max_value >= tolerance:\n",
    "            #max_key = max(mcc, key=mcc.get)\n",
    "            #print(max_key)\n",
    "            return best_model, best_history, max_value\n",
    "            break\n",
    "        else:\n",
    "            continue"
   ]
  },
  {
   "cell_type": "code",
   "execution_count": 7,
   "id": "3ed3990a",
   "metadata": {},
   "outputs": [],
   "source": [
    "num_outputs = 1\n",
    "num_inputs = len(train_features.columns) - num_outputs\n",
    "num_train = len(train_features)"
   ]
  },
  {
   "cell_type": "code",
   "execution_count": 8,
   "id": "8d28aed9",
   "metadata": {},
   "outputs": [
    {
     "name": "stdout",
     "output_type": "stream",
     "text": [
      "Number of neurons:  7  Trial  1\n",
      "0.9943350973940313\n",
      "Max mcc so far 0.9943350973940313\n",
      "Average for 7 neurons is 0.9943350973940313\n",
      "CPU times: total: 13.2 s\n",
      "Wall time: 32 s\n"
     ]
    }
   ],
   "source": [
    "%%time\n",
    "relu_model, relu_history, relu_mcc = iterative_training(\n",
    "    normalizer, num_train, \n",
    "    num_inputs, num_outputs,\n",
    "    'relu' , ep, train_features, train_lab, \n",
    "    val_features, val_lab, \n",
    "    test_features, test_lab, 0.99)"
   ]
  },
  {
   "cell_type": "code",
   "execution_count": 31,
   "id": "6c659019",
   "metadata": {},
   "outputs": [
    {
     "name": "stdout",
     "output_type": "stream",
     "text": [
      "Model: \"sequential\"\n",
      "_________________________________________________________________\n",
      " Layer (type)                Output Shape              Param #   \n",
      "=================================================================\n",
      " normalization (Normalizatio  (None, 6)                13        \n",
      " n)                                                              \n",
      "                                                                 \n",
      " dense (Dense)               (None, 7)                 49        \n",
      "                                                                 \n",
      " dense_1 (Dense)             (None, 1)                 8         \n",
      "                                                                 \n",
      "=================================================================\n",
      "Total params: 70\n",
      "Trainable params: 57\n",
      "Non-trainable params: 13\n",
      "_________________________________________________________________\n"
     ]
    }
   ],
   "source": [
    "relu_model.summary()"
   ]
  },
  {
   "cell_type": "markdown",
   "id": "d655681c",
   "metadata": {},
   "source": [
    "## Results"
   ]
  },
  {
   "cell_type": "code",
   "execution_count": 10,
   "id": "45f791f9",
   "metadata": {},
   "outputs": [
    {
     "data": {
      "image/png": "[encoded data removed]",
      "text/plain": [
       "<Figure size 640x480 with 1 Axes>"
      ]
     },
     "metadata": {},
     "output_type": "display_data"
    }
   ],
   "source": [
    "plot_loss(relu_history)"
   ]
  },
  {
   "cell_type": "code",
   "execution_count": 11,
   "id": "e3f84824",
   "metadata": {},
   "outputs": [
    {
     "name": "stdout",
     "output_type": "stream",
     "text": [
      "0.9943350973940313\n"
     ]
    }
   ],
   "source": [
    "print(relu_mcc)"
   ]
  },
  {
   "cell_type": "code",
   "execution_count": 33,
   "id": "70e9792f",
   "metadata": {},
   "outputs": [
    {
     "name": "stdout",
     "output_type": "stream",
     "text": [
      "87/87 [==============================] - 0s 2ms/step - loss: 0.0043 - binary_crossentropy: 0.0030 - accuracy: 0.9996 - tp: 2469.0000 - fp: 1.0000 - tn: 295.0000 - fn: 0.0000e+00\n"
     ]
    },
    {
     "data": {
      "text/plain": [
       "0.9981072743380605"
      ]
     },
     "execution_count": 33,
     "metadata": {},
     "output_type": "execute_result"
    }
   ],
   "source": [
    "test_results = {}\n",
    "test_results['relu_model'] = relu_model.evaluate(\n",
    "    test_features, test_lab, verbose=1\n",
    ")\n",
    "\n",
    "get_mcc(2469,295,1,0)"
   ]
  },
  {
   "cell_type": "code",
   "execution_count": 13,
   "id": "95f19c2f",
   "metadata": {},
   "outputs": [
    {
     "name": "stdout",
     "output_type": "stream",
     "text": [
      "Examples:\n",
      "    Total: 18432\n",
      "    Positive: 16457 (89.28% of total)\n",
      "    Negative: 1975 (10.72% of total)\n",
      "\n"
     ]
    }
   ],
   "source": [
    "ds2 = ds1.copy()\n",
    "ismisc_full = ds2.pop('ismisc')\n",
    "tot_neg, tot_pos = np.bincount(ismisc_full)\n",
    "total_full = tot_neg + tot_pos\n",
    "print('Examples:\\n    Total: {}\\n    Positive: {} ({:.2f}% of total)\\n    Negative: {} ({:.2f}% of total)\\n'.format(\n",
    "    total_full, tot_pos, 100 * tot_pos / total_full, tot_neg, 100 * tot_neg / total_full))"
   ]
  },
  {
   "cell_type": "code",
   "execution_count": 14,
   "id": "1e9bcf26",
   "metadata": {},
   "outputs": [
    {
     "name": "stdout",
     "output_type": "stream",
     "text": [
      "87/87 [==============================] - 0s 2ms/step\n",
      "87/87 [==============================] - 0s 2ms/step\n",
      "404/404 [==============================] - 1s 2ms/step\n",
      "576/576 [==============================] - 1s 2ms/step\n"
     ]
    }
   ],
   "source": [
    "relu_test_predictions = relu_model.predict(test_features).flatten()\n",
    "relu_val_predictions = relu_model.predict(val_features).flatten()\n",
    "relu_train_predictions = relu_model.predict(train_features).flatten()\n",
    "relu_predictions = relu_model.predict(ds2).flatten()\n",
    "\n",
    "bool_labels = ismisc_full != 0\n",
    "\n",
    "pos_pred = pd.DataFrame(relu_predictions[bool_labels])\n",
    "neg_pred = pd.DataFrame(relu_predictions[~bool_labels])"
   ]
  },
  {
   "cell_type": "code",
   "execution_count": 15,
   "id": "278ea210",
   "metadata": {},
   "outputs": [
    {
     "data": {
      "text/plain": [
       "(array([    1.,     0.,     0.,     1.,     0.,     0.,     0.,     1.,\n",
       "            2.,     2.,     3.,    10.,     8.,     9.,    10.,     9.,\n",
       "           15.,    24.,    32., 16330.]),\n",
       " array([0.  , 0.05, 0.1 , 0.15, 0.2 , 0.25, 0.3 , 0.35, 0.4 , 0.45, 0.5 ,\n",
       "        0.55, 0.6 , 0.65, 0.7 , 0.75, 0.8 , 0.85, 0.9 , 0.95, 1.  ]),\n",
       " <BarContainer object of 20 artists>)"
      ]
     },
     "execution_count": 15,
     "metadata": {},
     "output_type": "execute_result"
    },
    {
     "data": {
      "image/png": "[encoded data removed]",
      "text/plain": [
       "<Figure size 640x480 with 1 Axes>"
      ]
     },
     "metadata": {},
     "output_type": "display_data"
    }
   ],
   "source": [
    "plt.hist(pos_pred,20)"
   ]
  },
  {
   "cell_type": "code",
   "execution_count": 16,
   "id": "f7b08c43",
   "metadata": {},
   "outputs": [
    {
     "data": {
      "text/plain": [
       "(array([1876.,   16.,    9.,   11.,    6.,   13.,    9.,    9.,    8.,\n",
       "           9.,    3.,    1.,    1.,    1.,    0.,    0.,    0.,    0.,\n",
       "           1.,    2.]),\n",
       " array([0.   , 0.044, 0.089, 0.133, 0.177, 0.222, 0.266, 0.31 , 0.354,\n",
       "        0.399, 0.443, 0.487, 0.532, 0.576, 0.62 , 0.665, 0.709, 0.753,\n",
       "        0.797, 0.842, 0.886]),\n",
       " <BarContainer object of 20 artists>)"
      ]
     },
     "execution_count": 16,
     "metadata": {},
     "output_type": "execute_result"
    },
    {
     "data": {
      "image/png": "[encoded data removed]",
      "text/plain": [
       "<Figure size 640x480 with 1 Axes>"
      ]
     },
     "metadata": {},
     "output_type": "display_data"
    }
   ],
   "source": [
    "plt.hist(neg_pred,20)"
   ]
  },
  {
   "cell_type": "code",
   "execution_count": 17,
   "id": "7cb3addd",
   "metadata": {},
   "outputs": [],
   "source": [
    "def plot_cm(labels, predictions, p=0.5):\n",
    "    cm = confusion_matrix(labels, predictions > p)\n",
    "    plt.figure(figsize=(5,5))\n",
    "    sns.heatmap(cm, annot=True, fmt=\"d\")\n",
    "    plt.title('Confusion matrix @{:.2f}'.format(p))\n",
    "    plt.ylabel('Actual label')\n",
    "    plt.xlabel('Predicted label')\n",
    "\n",
    "    print('Immiscible samples correctly classified (True Negatives): ', cm[0][0])\n",
    "    print('Immiscible samples incorrectly classified (False Positives): ', cm[0][1])\n",
    "    print('Miscible samples incorrectly classified (False Negatives): ', cm[1][0])\n",
    "    print('Miscible samples correctly classified (True Positives): ', cm[1][1])\n",
    "    print('Total Miscible samples: ', np.sum(cm[1]))\n",
    "    return cm"
   ]
  },
  {
   "cell_type": "code",
   "execution_count": 18,
   "id": "b4ca9167",
   "metadata": {},
   "outputs": [],
   "source": [
    "pd_predictions = pd.Series(relu_predictions)"
   ]
  },
  {
   "cell_type": "code",
   "execution_count": 19,
   "id": "fc5d71f6",
   "metadata": {},
   "outputs": [
    {
     "data": {
      "text/plain": [
       "count    1.843200e+04\n",
       "mean     8.925827e-01\n",
       "std      3.061370e-01\n",
       "min      1.071060e-15\n",
       "25%      1.000000e+00\n",
       "50%      1.000000e+00\n",
       "75%      1.000000e+00\n",
       "max      1.000000e+00\n",
       "dtype: float64"
      ]
     },
     "execution_count": 19,
     "metadata": {},
     "output_type": "execute_result"
    }
   ],
   "source": [
    "pd_predictions.describe()"
   ]
  },
  {
   "cell_type": "code",
   "execution_count": 20,
   "id": "3f895497",
   "metadata": {},
   "outputs": [
    {
     "data": {
      "text/plain": [
       "(array([ 1895,    21,    24,    20,    16,    16,    17,    19,    42,\n",
       "        16362], dtype=int64),\n",
       " array([0. , 0.1, 0.2, 0.3, 0.4, 0.5, 0.6, 0.7, 0.8, 0.9, 1. ],\n",
       "       dtype=float32))"
      ]
     },
     "execution_count": 20,
     "metadata": {},
     "output_type": "execute_result"
    }
   ],
   "source": [
    "np.histogram(relu_predictions)"
   ]
  },
  {
   "cell_type": "code",
   "execution_count": 21,
   "id": "511ee1cb",
   "metadata": {},
   "outputs": [
    {
     "data": {
      "text/plain": [
       "<Axes: ylabel='Frequency'>"
      ]
     },
     "execution_count": 21,
     "metadata": {},
     "output_type": "execute_result"
    },
    {
     "data": {
      "image/png": "[encoded data removed]",
      "text/plain": [
       "<Figure size 640x480 with 1 Axes>"
      ]
     },
     "metadata": {},
     "output_type": "display_data"
    }
   ],
   "source": [
    "pd_predictions.plot(kind='hist')"
   ]
  },
  {
   "cell_type": "code",
   "execution_count": 22,
   "id": "9fc42a20",
   "metadata": {},
   "outputs": [
    {
     "data": {
      "text/plain": [
       "<Axes: ylabel='Frequency'>"
      ]
     },
     "execution_count": 22,
     "metadata": {},
     "output_type": "execute_result"
    },
    {
     "data": {
      "image/png": "[encoded data removed]",
      "text/plain": [
       "<Figure size 640x480 with 1 Axes>"
      ]
     },
     "metadata": {},
     "output_type": "display_data"
    }
   ],
   "source": [
    "pd_ismisc = pd.Series(ismisc_full)\n",
    "pd_ismisc.plot(kind='hist')"
   ]
  },
  {
   "cell_type": "code",
   "execution_count": 23,
   "id": "453e573d",
   "metadata": {},
   "outputs": [],
   "source": [
    "from sklearn.metrics import confusion_matrix "
   ]
  },
  {
   "cell_type": "code",
   "execution_count": 30,
   "id": "0e386c26",
   "metadata": {},
   "outputs": [],
   "source": [
    "def classifier_performance(num_points, predictions, lab):\n",
    "    p = np.arange(0,1,1/num_points)\n",
    "    precision = np.empty([num_points,])\n",
    "    recall = np.empty([num_points,])\n",
    "    accuracy = np.empty([num_points,])\n",
    "    f1score = np.empty([num_points,])\n",
    "    mcc = np.empty([num_points,])\n",
    "    for indexp, pi in np.ndenumerate(p):\n",
    "        cm = confusion_matrix(lab, predictions > pi)\n",
    "        precision[indexp] = (cm[1][1]/(cm[1][1] + cm[0][1]))\n",
    "        recall[indexp] = (cm[1][1]/(cm[1][1] + cm[1][0]))\n",
    "        accuracy[indexp] = ((cm[1][1]+cm[0][0])/(cm[1][1] + cm[1][0] + cm[0][0] + cm[0][1]))\n",
    "        f1score[indexp] = (2*precision[indexp]*recall[indexp]/(precision[indexp] + recall[indexp]))\n",
    "        mcc[indexp] = get_mcc(cm[1][1],cm[0][0],cm[0][1],cm[1][0])\n",
    "    return p, precision, recall, accuracy, f1score, mcc\n",
    "df = pd.DataFrame([p, mcc])\n",
    "df.to_csv('relu_bin.csv')"
   ]
  },
  {
   "cell_type": "code",
   "execution_count": 28,
   "id": "ba487f42",
   "metadata": {},
   "outputs": [],
   "source": [
    "def plot_performance(p,prec, rec, acc, f1score, mcc):\n",
    "    fig, (ax1, ax2) = plt.subplots(1,2, figsize=(20,10))\n",
    "    \n",
    "    ax1.plot(p,prec, color='r', label='precision')\n",
    "    ax1.plot(p,rec, color='b', label='recall')\n",
    "    ax1.plot(p,acc, color='black', label='accuracy')\n",
    "    ax1.set_ylabel('Metric value')\n",
    "    ax1.set_xlabel('Probability')\n",
    "    ax1.set_xticks(np.arange(0,1.1,0.1))\n",
    "    ax1.legend()\n",
    "    \n",
    "    ax = ax2.twinx()\n",
    "    ax2.plot(p,f1score, color='orange', label='F1 score')\n",
    "    ax.plot(p,mcc, color='black', label='MCC')\n",
    "    ax2.set_ylabel('Metric value')\n",
    "    ax2.set_xlabel('Probability')\n",
    "    ax2.set_xticks(np.arange(0,1.1,0.1))\n",
    "    handles1, labels1 = ax.get_legend_handles_labels()\n",
    "    handles2, labels2 = ax2.get_legend_handles_labels()\n",
    "\n",
    "    # Create the combined legend\n",
    "    ax.legend(handles1 + handles2,  labels1 + labels2, loc='lower right')\n",
    "    \n",
    "    plt.show()"
   ]
  },
  {
   "cell_type": "code",
   "execution_count": 29,
   "id": "33493962",
   "metadata": {},
   "outputs": [
    {
     "data": {
      "image/png": "[encoded data removed]",
      "text/plain": [
       "<Figure size 2000x1000 with 3 Axes>"
      ]
     },
     "metadata": {},
     "output_type": "display_data"
    }
   ],
   "source": [
    "p, precision, recall, accuracy, f1score, mcc = classifier_performance(1000, relu_predictions, ismisc_full)\n",
    "plot_performance(p,precision,recall,accuracy,f1score, mcc)"
   ]
  },
  {
   "cell_type": "code",
   "execution_count": 27,
   "id": "25960cfc",
   "metadata": {},
   "outputs": [
    {
     "name": "stdout",
     "output_type": "stream",
     "text": [
      "Accuracy:  0.9994032118055556 478\n",
      "F1 score:  0.999665805863588 478\n",
      "MCC:  0.9968803306590925 478\n",
      "Precision:  1.0 887\n"
     ]
    }
   ],
   "source": [
    "print('Accuracy: ', max(accuracy), np.argmax(accuracy))\n",
    "print('F1 score: ', max(f1score), np.argmax(f1score))\n",
    "print('MCC: ', max(mcc), np.argmax(mcc))\n",
    "print('Precision: ', max(precision), np.argmax(precision))"
   ]
  },
  {
   "cell_type": "code",
   "execution_count": null,
   "id": "a7f130a7",
   "metadata": {},
   "outputs": [],
   "source": [
    "relu_model.save('2c_relu_binary_optuna')"
   ]
  },
  {
   "cell_type": "markdown",
   "id": "38b15494",
   "metadata": {},
   "source": [
    "# TRANSFER TO GAMS"
   ]
  },
  {
   "cell_type": "code",
   "execution_count": null,
   "id": "30787c61",
   "metadata": {},
   "outputs": [],
   "source": [
    "%reload_ext gams_magic\n",
    "%gams_cleanup  -k\n"
   ]
  },
  {
   "cell_type": "code",
   "execution_count": null,
   "id": "ecfabd6a",
   "metadata": {},
   "outputs": [],
   "source": [
    "pwd = os.getcwd()\n",
    "pardir = os.path.abspath(os.path.join(pwd, os.pardir))\n",
    "print(pardir)\n",
    "\n",
    "path = os.path.join(pwd, '2c_relu_binary_optuna')\n",
    "#tanh_path = os.path.join(pardir,'tanh_model_ib_noT_miL2')\n",
    "#relu_path = os.path.join(pardir,'relu_model_ib_noT_miL2')\n",
    "#rbf_path = os.path.join(pardir,'rbf_model_ib_noT_miL2')\n",
    "\n",
    "tanh_model = tf.keras.models.load_model(path, compile=False)\n",
    "tanh_model.summary()"
   ]
  },
  {
   "cell_type": "code",
   "execution_count": null,
   "id": "c8ab4f7b",
   "metadata": {},
   "outputs": [],
   "source": [
    "weights = tanh_model.get_weights()\n",
    "\n",
    "print(weights)\n",
    "\n",
    "mean = weights[0]\n",
    "sd = weights[1]**0.5\n",
    "\n",
    "print(mean)\n",
    "print(sd)\n",
    "\n",
    "input_gain = 1/sd\n",
    "input_offset = mean\n",
    "print(input_gain)\n",
    "print(input_offset)\n",
    "\n",
    "num_inputs = len(input_gain)\n",
    "print(num_inputs)"
   ]
  },
  {
   "cell_type": "code",
   "execution_count": null,
   "id": "077f307c",
   "metadata": {},
   "outputs": [],
   "source": [
    "%%gams\n",
    "SETS\n",
    "f      'inputs to neural network' /1*6/;"
   ]
  },
  {
   "cell_type": "code",
   "execution_count": null,
   "id": "72a030e1",
   "metadata": {},
   "outputs": [],
   "source": [
    "%%gams\n",
    "SETS\n",
    "hl1    'number of hidden layers' /1*7/;"
   ]
  },
  {
   "cell_type": "code",
   "execution_count": null,
   "id": "6a6ceb80",
   "metadata": {},
   "outputs": [],
   "source": [
    "%%capture\n",
    "%run DataTransform.ipynb"
   ]
  },
  {
   "cell_type": "code",
   "execution_count": null,
   "id": "26bda472",
   "metadata": {},
   "outputs": [],
   "source": [
    "%gams_pull f hl1"
   ]
  },
  {
   "cell_type": "code",
   "execution_count": null,
   "id": "b8c84467",
   "metadata": {},
   "outputs": [],
   "source": [
    "%%gams\n",
    "parameter input_offset(f), input_gain(f), bias1(hl1), wt2(hl1), wt1(f<,hl1<), LB0(hl1), UB0(hl1);"
   ]
  },
  {
   "cell_type": "code",
   "execution_count": null,
   "id": "c1f8e40c",
   "metadata": {},
   "outputs": [],
   "source": [
    "print(input_offset)\n",
    "%gams_push input_offset\n",
    "%gams display input_offset;\n",
    "%gams_lst -e\n",
    "%gams_cleanup -k"
   ]
  },
  {
   "cell_type": "code",
   "execution_count": null,
   "id": "b803cd70",
   "metadata": {},
   "outputs": [],
   "source": [
    "print(input_gain)\n",
    "%gams_push input_gain\n",
    "%gams display input_gain;\n",
    "%gams_lst -e\n",
    "%gams_cleanup -k"
   ]
  },
  {
   "cell_type": "code",
   "execution_count": null,
   "id": "232f5245",
   "metadata": {},
   "outputs": [],
   "source": [
    "bias1 = weights[4]\n",
    "print(bias1.shape)\n",
    "%gams_push bias1\n",
    "%gams display bias1;\n",
    "%gams_lst -e\n",
    "%gams_cleanup -k"
   ]
  },
  {
   "cell_type": "code",
   "execution_count": null,
   "id": "8d48901e",
   "metadata": {},
   "outputs": [],
   "source": [
    "%%gams\n",
    "Scalar bias2;"
   ]
  },
  {
   "cell_type": "code",
   "execution_count": null,
   "id": "ff9f9632",
   "metadata": {},
   "outputs": [],
   "source": [
    "bias2 = weights[6]\n",
    "bias2 = float(bias2[0])\n",
    "print(bias2)\n",
    "\n",
    "%gams_push bias2\n",
    "%gams display bias2;\n",
    "%gams_lst -e\n",
    "%gams_cleanup -k"
   ]
  },
  {
   "cell_type": "code",
   "execution_count": null,
   "id": "83d3a451",
   "metadata": {},
   "outputs": [],
   "source": [
    "wt2 = weights[5]\n",
    "print(wt2)\n",
    "print(wt2.shape)\n",
    "wt2 = np.reshape(wt2, (7,))\n",
    "print(wt2.shape)\n",
    "%gams_push wt2\n",
    "%gams display wt2;\n",
    "%gams_lst -e\n",
    "%gams_cleanup -k"
   ]
  },
  {
   "cell_type": "code",
   "execution_count": null,
   "id": "a5273414",
   "metadata": {},
   "outputs": [],
   "source": [
    "wt1 = weights[3]\n",
    "print(wt1.shape)\n",
    "wt1 = pd.DataFrame(index=f,columns=hl1, data=wt1)\n",
    "print(wt1)\n",
    "wt1 = gt_from2dim(wt1)\n",
    "#print(wt1)\n",
    "%gams_push wt1\n",
    "%gams display wt1;\n",
    "%gams_lst -e\n",
    "%gams_cleanup -k"
   ]
  },
  {
   "cell_type": "markdown",
   "id": "1e1eb0f3",
   "metadata": {},
   "source": [
    "# Big-M using interval analysis"
   ]
  },
  {
   "cell_type": "code",
   "execution_count": null,
   "id": "435a179e",
   "metadata": {},
   "outputs": [],
   "source": [
    "num_layers = 1\n",
    "num_neurons = 6\n",
    "num_inputs = 6\n",
    "LB0 = []\n",
    "UB0 = []\n",
    "\n",
    "\n",
    "\n",
    "x_lb=-10\n",
    "x_ub=10\n",
    "\n",
    "wt1 = weights[3]\n",
    "b1=bias1\n",
    "print(wt1.shape)\n",
    "print(b1.shape)\n",
    "for i in range(num_neurons):\n",
    "    sum_lb = 0\n",
    "    sum_ub = 0\n",
    "    for j in range(num_inputs):\n",
    "\n",
    "        sum_lb += ((x_lb*max(0,wt1[j][i])) + (x_ub*min(0,wt1[j][i])))\n",
    "        sum_ub += ((x_ub*max(0,wt1[j][i])) + (x_lb*min(0,wt1[j][i])))\n",
    "    sum_lb += b1[i]\n",
    "    sum_ub += b1[i]\n",
    "    LB0.append(sum_lb)\n",
    "    UB0.append(sum_ub)\n",
    "    \n",
    "LB0=np.array(LB0)\n",
    "UB0=np.array(UB0)\n",
    "print(LB0)\n",
    "print(UB0)\n"
   ]
  },
  {
   "cell_type": "code",
   "execution_count": null,
   "id": "cea51718",
   "metadata": {},
   "outputs": [],
   "source": [
    "%gams_push LB0\n",
    "%gams display LB0;\n",
    "%gams_lst -e\n",
    "%gams_cleanup -k\n",
    "\n",
    "%gams_push UB0\n",
    "%gams display UB0;\n",
    "%gams_lst -e\n",
    "%gams_cleanup -k"
   ]
  },
  {
   "cell_type": "code",
   "execution_count": null,
   "id": "8553fd07",
   "metadata": {},
   "outputs": [],
   "source": []
  },
  {
   "cell_type": "code",
   "execution_count": null,
   "id": "2833e467",
   "metadata": {},
   "outputs": [],
   "source": []
  }
 ],
 "metadata": {
  "kernelspec": {
   "display_name": "Python 3 (ipykernel)",
   "language": "python",
   "name": "python3"
  },
  "language_info": {
   "codemirror_mode": {
    "name": "ipython",
    "version": 3
   },
   "file_extension": ".py",
   "mimetype": "text/x-python",
   "name": "python",
   "nbconvert_exporter": "python",
   "pygments_lexer": "ipython3",
   "version": "3.10.9"
  }
 },
 "nbformat": 4,
 "nbformat_minor": 5
}
